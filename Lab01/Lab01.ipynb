{
  "nbformat": 4,
  "nbformat_minor": 0,
  "metadata": {
    "colab": {
      "name": "Lab01.ipynb",
      "provenance": [],
      "collapsed_sections": [],
      "authorship_tag": "ABX9TyOQJkh986ZaAalq36oJ/90g",
      "include_colab_link": true
    },
    "kernelspec": {
      "name": "python3",
      "display_name": "Python 3"
    }
  },
  "cells": [
    {
      "cell_type": "markdown",
      "metadata": {
        "id": "view-in-github",
        "colab_type": "text"
      },
      "source": [
        "<a href=\"https://colab.research.google.com/github/MuhammadBilall/Lab01/blob/master/Lab01.ipynb\" target=\"_parent\"><img src=\"https://colab.research.google.com/assets/colab-badge.svg\" alt=\"Open In Colab\"/></a>"
      ]
    },
    {
      "cell_type": "code",
      "metadata": {
        "id": "3Mmq_PS8yeXf",
        "colab_type": "code",
        "colab": {
          "base_uri": "https://localhost:8080/",
          "height": 85
        },
        "outputId": "0c2e2ca2-9ace-461e-c7b3-5988a1a3c204"
      },
      "source": [
        "import numpy as np\n",
        "arr = np.array([\n",
        "                [10,20],\n",
        "                [30,40],\n",
        "                [50,60],\n",
        "                [70,80]\n",
        "                ])\n",
        "print(arr)"
      ],
      "execution_count": 5,
      "outputs": [
        {
          "output_type": "stream",
          "text": [
            "[[10 20]\n",
            " [30 40]\n",
            " [50 60]\n",
            " [70 80]]\n"
          ],
          "name": "stdout"
        }
      ]
    },
    {
      "cell_type": "code",
      "metadata": {
        "id": "Js6eSTkzzndh",
        "colab_type": "code",
        "colab": {
          "base_uri": "https://localhost:8080/",
          "height": 68
        },
        "outputId": "bb09eb05-ce37-431c-b8ba-7c6064dd2e97"
      },
      "source": [
        "from numpy.random import randint\n",
        "arr2 = randint(1,10,10)\n",
        "print(arr2)\n",
        "\n",
        "ascendingOrder = np.sort(arr2)\n",
        "print(\"ascending sorting: \", ascendingOrder)\n",
        "print(\"descending sorting: \", ascendingOrder[::-1])"
      ],
      "execution_count": 10,
      "outputs": [
        {
          "output_type": "stream",
          "text": [
            "[3 5 7 8 6 9 2 8 2 6]\n",
            "ascending sorting:  [2 2 3 5 6 6 7 8 8 9]\n",
            "descending sorting:  [9 8 8 7 6 6 5 3 2 2]\n"
          ],
          "name": "stdout"
        }
      ]
    },
    {
      "cell_type": "code",
      "metadata": {
        "id": "zjK6CvrU7NPn",
        "colab_type": "code",
        "colab": {
          "base_uri": "https://localhost:8080/",
          "height": 85
        },
        "outputId": "a8cd2696-b8d9-4050-ef68-a58c908c0167"
      },
      "source": [
        "arr3 = np.array([1,2,3,4,5,6,7,8,9])\n",
        "print(arr3)\n",
        "arr3 = np.reshape(arr3, (-1,3))\n",
        "print(arr3)"
      ],
      "execution_count": 15,
      "outputs": [
        {
          "output_type": "stream",
          "text": [
            "[1 2 3 4 5 6 7 8 9]\n",
            "[[1 2 3]\n",
            " [4 5 6]\n",
            " [7 8 9]]\n"
          ],
          "name": "stdout"
        }
      ]
    },
    {
      "cell_type": "code",
      "metadata": {
        "id": "X3shntAX79gF",
        "colab_type": "code",
        "colab": {
          "base_uri": "https://localhost:8080/",
          "height": 136
        },
        "outputId": "5a86140b-42b9-441d-aebe-2a61e6840139"
      },
      "source": [
        "arr4 = np.array([1,2,3,4])\n",
        "arr5 = np.array([5,6,7,8])\n",
        "print (arr4, arr5)\n",
        "\n",
        "colStackedArray = np.column_stack((arr4, arr5))\n",
        "rowStackedArray = np.row_stack((arr4, arr5))\n",
        "\n",
        "print(colStackedArray, \"\\n\",rowStackedArray)"
      ],
      "execution_count": 18,
      "outputs": [
        {
          "output_type": "stream",
          "text": [
            "[1 2 3 4] [5 6 7 8]\n",
            "[[1 5]\n",
            " [2 6]\n",
            " [3 7]\n",
            " [4 8]] \n",
            " [[1 2 3 4]\n",
            " [5 6 7 8]]\n"
          ],
          "name": "stdout"
        }
      ]
    },
    {
      "cell_type": "code",
      "metadata": {
        "id": "Pgz4Q7TQ8_zW",
        "colab_type": "code",
        "colab": {
          "base_uri": "https://localhost:8080/",
          "height": 68
        },
        "outputId": "6cb02982-fe0f-4446-c68c-bff54ce6d2b0"
      },
      "source": [
        "arr6 = randint(1,10,10)\n",
        "arr7 = randint(1,10,10)\n",
        "print(arr6,\"\\n\",arr7)\n",
        "print(\"common elements in both arrays: \", np.intersect1d(arr6, arr7))"
      ],
      "execution_count": 21,
      "outputs": [
        {
          "output_type": "stream",
          "text": [
            "[6 4 6 4 5 9 4 2 4 1] \n",
            " [5 6 4 8 2 1 2 7 7 5]\n",
            "common elements in both arrays:  [1 2 4 5 6]\n"
          ],
          "name": "stdout"
        }
      ]
    },
    {
      "cell_type": "code",
      "metadata": {
        "id": "EzJq1zrKChid",
        "colab_type": "code",
        "colab": {
          "base_uri": "https://localhost:8080/",
          "height": 170
        },
        "outputId": "8c25be36-5ea2-43b9-eb53-87ea00cf4c70"
      },
      "source": [
        "arr8 = np.array([\n",
        "              randint(1,50,5),\n",
        "              randint(1,50,5),\n",
        "              randint(1,50,5),\n",
        "              randint(1,50,5),\n",
        "              randint(1,50,5)\n",
        "              ])\n",
        "print(arr8)\n",
        "print(\"max value in columns: \", np.amax(arr8, axis=0))\n",
        "print(\"max value in rows: \", np.amax(arr8, axis=1))\n",
        "print(\"min value in columns: \", np.amin(arr8, axis=0))\n",
        "print(\"min value in rows: \", np.amin(arr8, axis=1))"
      ],
      "execution_count": 29,
      "outputs": [
        {
          "output_type": "stream",
          "text": [
            "[[29  1 45  1 27]\n",
            " [24 12 18 49 26]\n",
            " [36  2 39 49 39]\n",
            " [19 19 40 49 45]\n",
            " [21 20 16 19  4]]\n",
            "max value in columns:  [36 20 45 49 45]\n",
            "max value in rows:  [45 49 49 49 21]\n",
            "min value in columns:  [19  1 16  1  4]\n",
            "min value in rows:  [ 1 12  2 19  4]\n"
          ],
          "name": "stdout"
        }
      ]
    },
    {
      "cell_type": "code",
      "metadata": {
        "id": "BqW2TXxDEcql",
        "colab_type": "code",
        "colab": {
          "base_uri": "https://localhost:8080/",
          "height": 68
        },
        "outputId": "44e2a588-422e-402d-bd69-867c64b171d7"
      },
      "source": [
        "arr9 = randint(1,100,100)\n",
        "print(\"mean: \", np.mean(arr9))\n",
        "print(\"mean: \", np.median(arr9))\n",
        "print(\"mean: \", np.std(arr9))"
      ],
      "execution_count": 31,
      "outputs": [
        {
          "output_type": "stream",
          "text": [
            "mean:  48.1\n",
            "mean:  49.5\n",
            "mean:  27.69350104266342\n"
          ],
          "name": "stdout"
        }
      ]
    },
    {
      "cell_type": "code",
      "metadata": {
        "id": "sV1T-mWbGIIi",
        "colab_type": "code",
        "colab": {
          "base_uri": "https://localhost:8080/",
          "height": 221
        },
        "outputId": "036a8655-2392-452c-93c2-41570ecb9631"
      },
      "source": [
        "arr10 = np.array([\n",
        "              randint(1,50,5),\n",
        "              randint(1,50,5),\n",
        "              randint(1,50,5),\n",
        "              randint(1,50,5),\n",
        "              randint(1,50,5)\n",
        "              ])\n",
        "print(\"Matrix:\\n\",arr10)\n",
        "arr10 = arr10 - np.mean(arr10,axis=0)\n",
        "arr10 = arr10 / np.abs(arr10).max(axis=0)\n",
        "print(\"Normalized Matrix:\\n\",arr10)"
      ],
      "execution_count": 35,
      "outputs": [
        {
          "output_type": "stream",
          "text": [
            "Matrix:\n",
            " [[ 8 35 11 30 46]\n",
            " [32 17 12 29 28]\n",
            " [33  6 38  3  8]\n",
            " [ 1 16 15 10 24]\n",
            " [35 28 29  3 37]]\n",
            "Normalized Matrix:\n",
            " [[-0.66346154  1.         -0.58823529  1.          0.84466019]\n",
            " [ 0.49038462 -0.23287671 -0.52941176  0.93333333 -0.02912621]\n",
            " [ 0.53846154 -0.98630137  1.         -0.8        -1.        ]\n",
            " [-1.         -0.30136986 -0.35294118 -0.33333333 -0.22330097]\n",
            " [ 0.63461538  0.52054795  0.47058824 -0.8         0.40776699]]\n"
          ],
          "name": "stdout"
        }
      ]
    },
    {
      "cell_type": "code",
      "metadata": {
        "id": "hD5LF7SoIPfh",
        "colab_type": "code",
        "colab": {
          "base_uri": "https://localhost:8080/",
          "height": 544
        },
        "outputId": "9ea551c2-9a6b-40c9-c85a-16f3f0c3807d"
      },
      "source": [
        "array11 = np.random.random((4,4,3))\n",
        "array12 = np.random.random((4,4))\n",
        "\n",
        "print(array11)\n",
        "print(array12)\n",
        "\n",
        "array13 = array11.reshape(12,4).T\n",
        "array14 = np.matmul(array12,array13)\n",
        "\n",
        "print(array14)"
      ],
      "execution_count": 71,
      "outputs": [
        {
          "output_type": "stream",
          "text": [
            "[[[0.87109631 0.01999909 0.47298561]\n",
            "  [0.21966948 0.79418247 0.73451847]\n",
            "  [0.25939612 0.65529804 0.33161695]\n",
            "  [0.17037636 0.16676968 0.26684578]]\n",
            "\n",
            " [[0.07764351 0.35652983 0.76658894]\n",
            "  [0.66753135 0.75851142 0.82917966]\n",
            "  [0.50432374 0.46528941 0.68470478]\n",
            "  [0.95074637 0.26764742 0.36007903]]\n",
            "\n",
            " [[0.63362084 0.23173301 0.73943472]\n",
            "  [0.57133619 0.7162871  0.9912891 ]\n",
            "  [0.26074482 0.2139823  0.60331816]\n",
            "  [0.8564219  0.18633949 0.17238267]]\n",
            "\n",
            " [[0.99211707 0.74761335 0.97894949]\n",
            "  [0.4807429  0.86137872 0.98333196]\n",
            "  [0.2013237  0.60830013 0.37198068]\n",
            "  [0.10501979 0.13666174 0.24791693]]]\n",
            "[[0.53550004 0.70937192 0.80251395 0.12526462]\n",
            " [0.94592006 0.54441734 0.58913149 0.12391817]\n",
            " [0.08006274 0.75112546 0.03233385 0.1683237 ]\n",
            " [0.79358214 0.72072055 0.89155314 0.93194872]]\n",
            "[[0.88775326 1.23658619 0.46570243 0.99330674 1.45739081 1.30098818\n",
            "  1.16866377 1.32282019 1.10173204 1.90745535 1.39657999 0.41442193]\n",
            " [1.14074708 1.38513948 0.53775528 0.80188653 1.52368177 1.36757866\n",
            "  1.23193735 1.39735459 1.16808149 1.98177986 1.54412395 0.52027173]\n",
            " [0.13703321 0.73398942 0.20483296 0.41116311 0.77817242 0.83821306\n",
            "  0.34486818 0.84637956 0.72662476 0.75355666 0.91647092 0.15481392]\n",
            " [1.33211272 2.00160118 0.78332965 1.62413464 2.08280523 1.80278903\n",
            "  1.8615463  1.71476347 1.42280674 2.64695991 2.13867763 0.72377421]]\n"
          ],
          "name": "stdout"
        }
      ]
    }
  ]
}